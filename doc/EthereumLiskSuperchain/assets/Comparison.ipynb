{
 "cells": [
  {
   "cell_type": "markdown",
   "id": "9e287aa5",
   "metadata": {},
   "source": [
    "# Blockchain Comparison: Ethereum vs Bitcoin vs Lisk\n",
    "This notebook compares Ethereum, Bitcoin, and Lisk on transaction fees, TPS, and time to finality using visualizations."
   ]
  },
  {
   "cell_type": "markdown",
   "id": "f6c17d19",
   "metadata": {},
   "source": [
    "## 📊 Transaction Fee Comparison (Ethereum vs Lisk)"
   ]
  },
  {
   "cell_type": "code",
   "execution_count": null,
   "id": "b27b438e",
   "metadata": {},
   "outputs": [],
   "source": [
    "\n",
    "import matplotlib.pyplot as plt\n",
    "\n",
    "# Fee Comparison\n",
    "blockchains_fee = ['Ethereum', 'Lisk']\n",
    "fees_usd = [0.056, 0.0000000022]\n",
    "\n",
    "plt.figure(figsize=(10, 6))\n",
    "bars = plt.bar(blockchains_fee, fees_usd, color=['#627eea', '#00aaff'])\n",
    "\n",
    "for bar, fee in zip(bars, fees_usd):\n",
    "    plt.text(bar.get_x() + bar.get_width()/2, bar.get_height() * 1.05,\n",
    "             f\"${fee:.10f}\", ha='center', fontsize=12)\n",
    "\n",
    "plt.title('Transaction Fee Comparison: Ethereum vs Lisk', fontsize=16)\n",
    "plt.ylabel('Fee (USD)', fontsize=12)\n",
    "plt.yscale('log')\n",
    "plt.grid(True, which='both', linestyle='--', linewidth=0.5)\n",
    "plt.tight_layout()\n",
    "plt.show()\n"
   ]
  },
  {
   "cell_type": "markdown",
   "id": "d1709a96",
   "metadata": {},
   "source": [
    "## ⚡ TPS and Finality Comparison"
   ]
  },
  {
   "cell_type": "code",
   "execution_count": null,
   "id": "f34b42bd",
   "metadata": {},
   "outputs": [],
   "source": [
    "\n",
    "# TPS and Finality Charts\n",
    "blockchains_perf = ['Ethereum', 'Bitcoin', 'Lisk']\n",
    "tps = [30, 7, 25]\n",
    "finality_seconds = [780, 3600, 30]  # Ethereum ~13 mins, Bitcoin ~60 mins, Lisk ~30 secs\n",
    "\n",
    "fig, ax = plt.subplots(1, 2, figsize=(14, 6))\n",
    "\n",
    "# TPS\n",
    "bars1 = ax[0].bar(blockchains_perf, tps, color=['#627eea', '#f7931a', '#00aaff'])\n",
    "ax[0].set_title('Max Transactions Per Second (TPS)', fontsize=14)\n",
    "ax[0].set_ylabel('TPS', fontsize=12)\n",
    "for bar, value in zip(bars1, tps):\n",
    "    ax[0].text(bar.get_x() + bar.get_width()/2, bar.get_height() + 1, f\"{value}\", ha='center', fontsize=11)\n",
    "\n",
    "# Finality\n",
    "bars2 = ax[1].bar(blockchains_perf, finality_seconds, color=['#627eea', '#f7931a', '#00aaff'])\n",
    "ax[1].set_title('Time to Finality (seconds)', fontsize=14)\n",
    "ax[1].set_ylabel('Seconds', fontsize=12)\n",
    "ax[1].set_yscale('log')\n",
    "for bar, value in zip(bars2, finality_seconds):\n",
    "    ax[1].text(bar.get_x() + bar.get_width()/2, value * 1.1, f\"{value}s\", ha='center', fontsize=11)\n",
    "\n",
    "plt.tight_layout()\n",
    "plt.show()\n"
   ]
  }
 ],
 "metadata": {},
 "nbformat": 4,
 "nbformat_minor": 5
}
